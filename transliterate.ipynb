{
 "cells": [
  {
   "cell_type": "code",
   "execution_count": 38,
   "metadata": {},
   "outputs": [],
   "source": [
    "import pandas as pd"
   ]
  },
  {
   "cell_type": "code",
   "execution_count": 39,
   "metadata": {},
   "outputs": [],
   "source": [
    "from indic_transliteration import sanscript\n",
    "from indic_transliteration.sanscript import SchemeMap, SCHEMES, transliterate"
   ]
  },
  {
   "cell_type": "code",
   "execution_count": 40,
   "metadata": {},
   "outputs": [
    {
     "name": "stdout",
     "output_type": "stream",
     "text": [
      "<class 'pandas.core.frame.DataFrame'>\n",
      "RangeIndex: 3826 entries, 0 to 3825\n",
      "Data columns (total 4 columns):\n",
      "ID            3826 non-null object\n",
      "Text          3826 non-null object\n",
      "Sub-task A    3826 non-null object\n",
      "Sub-task B    3826 non-null object\n",
      "dtypes: object(4)\n",
      "memory usage: 119.6+ KB\n"
     ]
    }
   ],
   "source": [
    "df = pd.read_csv('iben/iben/trac2_iben_train.csv')\n",
    "df.info()"
   ]
  },
  {
   "cell_type": "code",
   "execution_count": 41,
   "metadata": {},
   "outputs": [
    {
     "data": {
      "text/html": [
       "<div>\n",
       "<style scoped>\n",
       "    .dataframe tbody tr th:only-of-type {\n",
       "        vertical-align: middle;\n",
       "    }\n",
       "\n",
       "    .dataframe tbody tr th {\n",
       "        vertical-align: top;\n",
       "    }\n",
       "\n",
       "    .dataframe thead th {\n",
       "        text-align: right;\n",
       "    }\n",
       "</style>\n",
       "<table border=\"1\" class=\"dataframe\">\n",
       "  <thead>\n",
       "    <tr style=\"text-align: right;\">\n",
       "      <th></th>\n",
       "      <th>ID</th>\n",
       "      <th>Text</th>\n",
       "      <th>Sub-task A</th>\n",
       "      <th>Sub-task B</th>\n",
       "    </tr>\n",
       "  </thead>\n",
       "  <tbody>\n",
       "    <tr>\n",
       "      <th>0</th>\n",
       "      <td>C45.688</td>\n",
       "      <td>Dada taratari</td>\n",
       "      <td>NAG</td>\n",
       "      <td>NGEN</td>\n",
       "    </tr>\n",
       "    <tr>\n",
       "      <th>1</th>\n",
       "      <td>C45.635.5</td>\n",
       "      <td>Tumi korbe Amar sathe</td>\n",
       "      <td>NAG</td>\n",
       "      <td>NGEN</td>\n",
       "    </tr>\n",
       "    <tr>\n",
       "      <th>2</th>\n",
       "      <td>C47.103</td>\n",
       "      <td>Ar ta chara a sob bessha peter cheleder okhan ...</td>\n",
       "      <td>OAG</td>\n",
       "      <td>GEN</td>\n",
       "    </tr>\n",
       "    <tr>\n",
       "      <th>3</th>\n",
       "      <td>C68.147</td>\n",
       "      <td>কাকের শরীরে ময়ুরের পাখা লাগিয়েছে</td>\n",
       "      <td>CAG</td>\n",
       "      <td>NGEN</td>\n",
       "    </tr>\n",
       "    <tr>\n",
       "      <th>4</th>\n",
       "      <td>C45.615</td>\n",
       "      <td>পতিতাদের চরিত্র রাজনৈতিক নেতাদের থেকে হাজার গু...</td>\n",
       "      <td>NAG</td>\n",
       "      <td>NGEN</td>\n",
       "    </tr>\n",
       "  </tbody>\n",
       "</table>\n",
       "</div>"
      ],
      "text/plain": [
       "          ID                                               Text Sub-task A  \\\n",
       "0    C45.688                                      Dada taratari        NAG   \n",
       "1  C45.635.5                              Tumi korbe Amar sathe        NAG   \n",
       "2    C47.103  Ar ta chara a sob bessha peter cheleder okhan ...        OAG   \n",
       "3    C68.147                   কাকের শরীরে ময়ুরের পাখা লাগিয়েছে        CAG   \n",
       "4    C45.615  পতিতাদের চরিত্র রাজনৈতিক নেতাদের থেকে হাজার গু...        NAG   \n",
       "\n",
       "  Sub-task B  \n",
       "0       NGEN  \n",
       "1       NGEN  \n",
       "2        GEN  \n",
       "3       NGEN  \n",
       "4       NGEN  "
      ]
     },
     "execution_count": 41,
     "metadata": {},
     "output_type": "execute_result"
    }
   ],
   "source": [
    "df.head()"
   ]
  },
  {
   "cell_type": "code",
   "execution_count": 42,
   "metadata": {},
   "outputs": [
    {
     "name": "stdout",
     "output_type": "stream",
     "text": [
      "patitādera caritra rājanaitika netādera theke hājāra guna bhāla | odera satatā āāche | ṭākā\n",
      "mere deya় nā | odera āāra ghāṭionā bhāi |\n"
     ]
    }
   ],
   "source": [
    "ata = df.head()['Text'][4]\n",
    "print(transliterate(ata, sanscript.BENGALI, sanscript.IAST))"
   ]
  },
  {
   "cell_type": "code",
   "execution_count": 43,
   "metadata": {},
   "outputs": [
    {
     "data": {
      "text/html": [
       "<div>\n",
       "<style scoped>\n",
       "    .dataframe tbody tr th:only-of-type {\n",
       "        vertical-align: middle;\n",
       "    }\n",
       "\n",
       "    .dataframe tbody tr th {\n",
       "        vertical-align: top;\n",
       "    }\n",
       "\n",
       "    .dataframe thead th {\n",
       "        text-align: right;\n",
       "    }\n",
       "</style>\n",
       "<table border=\"1\" class=\"dataframe\">\n",
       "  <thead>\n",
       "    <tr style=\"text-align: right;\">\n",
       "      <th></th>\n",
       "      <th>ID</th>\n",
       "      <th>Text</th>\n",
       "      <th>Sub-task A</th>\n",
       "      <th>Sub-task B</th>\n",
       "      <th>transliterated</th>\n",
       "    </tr>\n",
       "  </thead>\n",
       "  <tbody>\n",
       "    <tr>\n",
       "      <th>0</th>\n",
       "      <td>C45.688</td>\n",
       "      <td>Dada taratari</td>\n",
       "      <td>NAG</td>\n",
       "      <td>NGEN</td>\n",
       "      <td>Dada taratari</td>\n",
       "    </tr>\n",
       "    <tr>\n",
       "      <th>1</th>\n",
       "      <td>C45.635.5</td>\n",
       "      <td>Tumi korbe Amar sathe</td>\n",
       "      <td>NAG</td>\n",
       "      <td>NGEN</td>\n",
       "      <td>Tumi korbe Amar sathe</td>\n",
       "    </tr>\n",
       "    <tr>\n",
       "      <th>2</th>\n",
       "      <td>C47.103</td>\n",
       "      <td>Ar ta chara a sob bessha peter cheleder okhan ...</td>\n",
       "      <td>OAG</td>\n",
       "      <td>GEN</td>\n",
       "      <td>Ar ta chara a sob bessha peter cheleder okhan ...</td>\n",
       "    </tr>\n",
       "    <tr>\n",
       "      <th>3</th>\n",
       "      <td>C68.147</td>\n",
       "      <td>কাকের শরীরে ময়ুরের পাখা লাগিয়েছে</td>\n",
       "      <td>CAG</td>\n",
       "      <td>NGEN</td>\n",
       "      <td>kākera śarīre maয়urera pākhā lāgiয়eche</td>\n",
       "    </tr>\n",
       "    <tr>\n",
       "      <th>4</th>\n",
       "      <td>C45.615</td>\n",
       "      <td>পতিতাদের চরিত্র রাজনৈতিক নেতাদের থেকে হাজার গু...</td>\n",
       "      <td>NAG</td>\n",
       "      <td>NGEN</td>\n",
       "      <td>patitādera caritra rājanaitika netādera theke ...</td>\n",
       "    </tr>\n",
       "  </tbody>\n",
       "</table>\n",
       "</div>"
      ],
      "text/plain": [
       "          ID                                               Text Sub-task A  \\\n",
       "0    C45.688                                      Dada taratari        NAG   \n",
       "1  C45.635.5                              Tumi korbe Amar sathe        NAG   \n",
       "2    C47.103  Ar ta chara a sob bessha peter cheleder okhan ...        OAG   \n",
       "3    C68.147                   কাকের শরীরে ময়ুরের পাখা লাগিয়েছে        CAG   \n",
       "4    C45.615  পতিতাদের চরিত্র রাজনৈতিক নেতাদের থেকে হাজার গু...        NAG   \n",
       "\n",
       "  Sub-task B                                     transliterated  \n",
       "0       NGEN                                      Dada taratari  \n",
       "1       NGEN                              Tumi korbe Amar sathe  \n",
       "2        GEN  Ar ta chara a sob bessha peter cheleder okhan ...  \n",
       "3       NGEN             kākera śarīre maয়urera pākhā lāgiয়eche  \n",
       "4       NGEN  patitādera caritra rājanaitika netādera theke ...  "
      ]
     },
     "execution_count": 43,
     "metadata": {},
     "output_type": "execute_result"
    }
   ],
   "source": [
    "df['transliterated'] = list(map(lambda x: transliterate(x, sanscript.BENGALI, sanscript.IAST), df['Text'] ))#sanscript.DEVNAGARI for hindi\n",
    "df.head()"
   ]
  },
  {
   "cell_type": "code",
   "execution_count": 44,
   "metadata": {},
   "outputs": [],
   "source": [
    "df.to_csv('iben/iben/trac2_iben_train_transliterated.csv', index = False)"
   ]
  },
  {
   "cell_type": "code",
   "execution_count": null,
   "metadata": {},
   "outputs": [],
   "source": []
  },
  {
   "cell_type": "code",
   "execution_count": null,
   "metadata": {},
   "outputs": [],
   "source": []
  }
 ],
 "metadata": {
  "kernelspec": {
   "display_name": "Python 3",
   "language": "python",
   "name": "python3"
  },
  "language_info": {
   "codemirror_mode": {
    "name": "ipython",
    "version": 3
   },
   "file_extension": ".py",
   "mimetype": "text/x-python",
   "name": "python",
   "nbconvert_exporter": "python",
   "pygments_lexer": "ipython3",
   "version": "3.7.3"
  }
 },
 "nbformat": 4,
 "nbformat_minor": 2
}
