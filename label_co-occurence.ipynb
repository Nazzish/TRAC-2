{
 "cells": [
  {
   "cell_type": "code",
   "execution_count": 1,
   "metadata": {},
   "outputs": [],
   "source": [
    "import pandas as pd"
   ]
  },
  {
   "cell_type": "code",
   "execution_count": 20,
   "metadata": {},
   "outputs": [
    {
     "name": "stdout",
     "output_type": "stream",
     "text": [
      "<class 'pandas.core.frame.DataFrame'>\n",
      "RangeIndex: 3826 entries, 0 to 3825\n",
      "Data columns (total 4 columns):\n",
      "ID            3826 non-null object\n",
      "Text          3826 non-null object\n",
      "Sub-task A    3826 non-null object\n",
      "Sub-task B    3826 non-null object\n",
      "dtypes: object(4)\n",
      "memory usage: 119.6+ KB\n",
      "None\n"
     ]
    }
   ],
   "source": [
    "eng_t = pd.read_csv('iben/iben/trac2_iben_train.csv')\n",
    "print(eng_t.info())"
   ]
  },
  {
   "cell_type": "code",
   "execution_count": 21,
   "metadata": {},
   "outputs": [
    {
     "name": "stdout",
     "output_type": "stream",
     "text": [
      "NAG NGEN    1949\n",
      "GEN      129\n",
      "Name: Sub-task B, dtype: int64\n",
      "OAG GEN     454\n",
      "NGEN    396\n",
      "Name: Sub-task B, dtype: int64\n",
      "CAG NGEN    769\n",
      "GEN     129\n",
      "Name: Sub-task B, dtype: int64\n"
     ]
    }
   ],
   "source": [
    "print('NAG',eng_t[eng_t['Sub-task A'] == 'NAG']['Sub-task B'].value_counts())\n",
    "print('OAG',eng_t[eng_t['Sub-task A'] == 'OAG']['Sub-task B'].value_counts())\n",
    "print('CAG',eng_t[eng_t['Sub-task A'] == 'CAG']['Sub-task B'].value_counts())"
   ]
  },
  {
   "cell_type": "code",
   "execution_count": 22,
   "metadata": {},
   "outputs": [
    {
     "name": "stdout",
     "output_type": "stream",
     "text": [
      "<class 'pandas.core.frame.DataFrame'>\n",
      "RangeIndex: 957 entries, 0 to 956\n",
      "Data columns (total 4 columns):\n",
      "ID            957 non-null object\n",
      "Text          957 non-null object\n",
      "Sub-task A    957 non-null object\n",
      "Sub-task B    957 non-null object\n",
      "dtypes: object(4)\n",
      "memory usage: 30.0+ KB\n",
      "None\n"
     ]
    }
   ],
   "source": [
    "eng_d = pd.read_csv('iben/iben/trac2_iben_dev.csv')\n",
    "print(eng_d.info())"
   ]
  },
  {
   "cell_type": "code",
   "execution_count": 23,
   "metadata": {},
   "outputs": [
    {
     "name": "stdout",
     "output_type": "stream",
     "text": [
      "NAG NGEN    485\n",
      "GEN      37\n",
      "Name: Sub-task B, dtype: int64\n",
      "OAG GEN     123\n",
      "NGEN     94\n",
      "Name: Sub-task B, dtype: int64\n",
      "CAG NGEN    187\n",
      "GEN      31\n",
      "Name: Sub-task B, dtype: int64\n"
     ]
    }
   ],
   "source": [
    "print('NAG',eng_d[eng_d['Sub-task A'] == 'NAG']['Sub-task B'].value_counts())\n",
    "print('OAG',eng_d[eng_d['Sub-task A'] == 'OAG']['Sub-task B'].value_counts())\n",
    "print('CAG',eng_d[eng_d['Sub-task A'] == 'CAG']['Sub-task B'].value_counts())"
   ]
  },
  {
   "cell_type": "code",
   "execution_count": null,
   "metadata": {},
   "outputs": [],
   "source": []
  }
 ],
 "metadata": {
  "kernelspec": {
   "display_name": "Python 3",
   "language": "python",
   "name": "python3"
  },
  "language_info": {
   "codemirror_mode": {
    "name": "ipython",
    "version": 3
   },
   "file_extension": ".py",
   "mimetype": "text/x-python",
   "name": "python",
   "nbconvert_exporter": "python",
   "pygments_lexer": "ipython3",
   "version": "3.7.3"
  }
 },
 "nbformat": 4,
 "nbformat_minor": 2
}
